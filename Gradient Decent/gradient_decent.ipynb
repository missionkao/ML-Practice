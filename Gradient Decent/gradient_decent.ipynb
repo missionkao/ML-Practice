{
 "cells": [
  {
   "cell_type": "code",
   "execution_count": 18,
   "metadata": {},
   "outputs": [
    {
     "name": "stdout",
     "output_type": "stream",
     "text": [
      "b = 0.32394307848370435, w = 1.4731251028849779\n",
      "Error: 112.47667627628394\n"
     ]
    },
    {
     "data": {
      "image/png": "[encoded data removed]",
      "text/plain": [
       "<matplotlib.figure.Figure at 0x10d575208>"
      ]
     },
     "metadata": {},
     "output_type": "display_data"
    }
   ],
   "source": [
    "import numpy as np\n",
    "from numpy import genfromtxt\n",
    "import matplotlib.pyplot as plt\n",
    "\n",
    "\n",
    "points = genfromtxt(\"data.csv\", delimiter=\",\")\n",
    "\n",
    "# y = b + wx\n",
    "\n",
    "\n",
    "def calculate_loss_value(b, w):\n",
    "    loss = 0\n",
    "    for point in points:\n",
    "        x, y = point\n",
    "        loss += (y - (b + w * x)) ** 2\n",
    "    return loss / float(len(points))\n",
    "\n",
    "\n",
    "def gradient_descent_algorithm(b, w):\n",
    "    learning_rate = 0.0001\n",
    "    N = float(len(points))\n",
    "    derive_b, derive_w = [0.0, 0.0]\n",
    "    for point in points:\n",
    "        x, y = point\n",
    "        derive_b += ((b + w * x) - y) / N\n",
    "        derive_w += ((b + w * x) - y) * x / N\n",
    "    gradient_b = b - learning_rate * derive_b\n",
    "    gradient_w = w - learning_rate * derive_w\n",
    "    return [gradient_b, gradient_w]\n",
    "\n",
    "\n",
    "def start_gradient_descent():\n",
    "    num_iterations = 10000\n",
    "    b, w = [0, 0]\n",
    "    for _ in range(num_iterations):\n",
    "        b, w = gradient_descent_algorithm(b, w)\n",
    "    return [b, w]\n",
    "\n",
    "\n",
    "def run():\n",
    "    [result_b, result_w] = start_gradient_descent()\n",
    "    error = calculate_loss_value(result_b, result_w)\n",
    "    print(\"b = {0}, w = {1}\".format(result_b, result_w))\n",
    "    print(\"Error: {0}\".format(error))\n",
    "    plot_x = np.arange(20., 80., 0.5)\n",
    "    plot_y = [result_b + result_w * x for x in plot_x]\n",
    "    plt.plot(plot_x, plot_y)\n",
    "\n",
    "    train_x = [p[0] for p in points]\n",
    "    train_y = [p[1] for p in points]\n",
    "    plt.plot(train_x, train_y, 'ro')\n",
    "    plt.show()\n",
    "\n",
    "\n",
    "if __name__ == '__main__':\n",
    "    run()\n"
   ]
  },
  {
   "cell_type": "code",
   "execution_count": 4,
   "metadata": {},
   "outputs": [],
   "source": []
  }
 ],
 "metadata": {
  "kernelspec": {
   "display_name": "Python 3",
   "language": "python",
   "name": "python3"
  },
  "language_info": {
   "codemirror_mode": {
    "name": "ipython",
    "version": 3
   },
   "file_extension": ".py",
   "mimetype": "text/x-python",
   "name": "python",
   "nbconvert_exporter": "python",
   "pygments_lexer": "ipython3",
   "version": "3.6.1"
  }
 },
 "nbformat": 4,
 "nbformat_minor": 2
}
